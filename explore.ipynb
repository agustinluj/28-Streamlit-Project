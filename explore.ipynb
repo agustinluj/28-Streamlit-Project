{
 "cells": [
  {
   "cell_type": "code",
   "execution_count": 2,
   "metadata": {},
   "outputs": [],
   "source": [
    "import pickle\n",
    "import pandas as pd\n",
    "import streamlit as st\n",
    "import matplotlib.pyplot as plt\n",
    "\n",
    "# to load the model\n",
    "with open(r'models\\model.pkl', 'rb') as f:\n",
    "    pipe = pickle.load(f)"
   ]
  },
  {
   "cell_type": "code",
   "execution_count": 4,
   "metadata": {},
   "outputs": [],
   "source": [
    "import matplotlib.pyplot as plt\n",
    "import numpy as np\n",
    "\n",
    "def plot_bmi_gauge(bmi_value):\n",
    "    # Define the categories for BMI\n",
    "    categories = ['Underweight', 'Normal', 'Overweight', 'Obese', 'Morbidly Obese']\n",
    "    colors = ['#00bfff', '#00ff00', '#ffff00', '#ffa500', '#ff0000']\n",
    "    boundaries = [0, 18.5, 25, 30, 35, 50]  # BMI thresholds\n",
    "    \n",
    "    # Create the gauge as a pie chart\n",
    "    fig, ax = plt.subplots(figsize=(8, 6), subplot_kw={'projection': 'polar'})\n",
    "    start_angle = -90  # Start at the top of the gauge\n",
    "    theta = np.linspace(start_angle, start_angle + 180, 100)  # Semi-circle range\n",
    "    \n",
    "    for i, color in enumerate(colors):\n",
    "        ax.barh(1, np.deg2rad(boundaries[i + 1] - boundaries[i]) * 180 / np.pi, \n",
    "                left=np.deg2rad(boundaries[i] - 0.1), color=color, edgecolor='black', height=0.4)\n",
    "                \n",
    "        # Highlight the value\n",
    "        ax.annotate(label,boundaries)\n"
   ]
  }
 ],
 "metadata": {
  "kernelspec": {
   "display_name": "Python 3",
   "language": "python",
   "name": "python3"
  },
  "language_info": {
   "codemirror_mode": {
    "name": "ipython",
    "version": 3
   },
   "file_extension": ".py",
   "mimetype": "text/x-python",
   "name": "python",
   "nbconvert_exporter": "python",
   "pygments_lexer": "ipython3",
   "version": "3.12.5"
  }
 },
 "nbformat": 4,
 "nbformat_minor": 2
}
